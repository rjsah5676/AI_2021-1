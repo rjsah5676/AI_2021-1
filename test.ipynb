{
 "cells": [
  {
   "cell_type": "code",
   "execution_count": 9,
   "metadata": {},
   "outputs": [
    {
     "name": "stdout",
     "output_type": "stream",
     "text": [
      "[[ 1  2  3  4  5  6  7  8]\n",
      " [ 9 10 11 12 13 14 15 16]\n",
      " [17 18 19 20 21 22 23 24]\n",
      " [25 26 27 28 29 30 31 32]\n",
      " [33 34 35 36 37 38 39 40]\n",
      " [41 42 43 44 45 46 47 48]\n",
      " [49 50 51 52 53 54 55 56]\n",
      " [57 58 59 60 61 62 63 64]]\n",
      "[[[ 1  2]\n",
      "  [ 3  4]\n",
      "  [ 5  6]\n",
      "  [ 7  8]]\n",
      "\n",
      " [[ 9 10]\n",
      "  [11 12]\n",
      "  [13 14]\n",
      "  [15 16]]\n",
      "\n",
      " [[17 18]\n",
      "  [19 20]\n",
      "  [21 22]\n",
      "  [23 24]]\n",
      "\n",
      " [[25 26]\n",
      "  [27 28]\n",
      "  [29 30]\n",
      "  [31 32]]\n",
      "\n",
      " [[33 34]\n",
      "  [35 36]\n",
      "  [37 38]\n",
      "  [39 40]]\n",
      "\n",
      " [[41 42]\n",
      "  [43 44]\n",
      "  [45 46]\n",
      "  [47 48]]\n",
      "\n",
      " [[49 50]\n",
      "  [51 52]\n",
      "  [53 54]\n",
      "  [55 56]]\n",
      "\n",
      " [[57 58]\n",
      "  [59 60]\n",
      "  [61 62]\n",
      "  [63 64]]]\n"
     ]
    }
   ],
   "source": [
    "#레포트 2-1\n",
    "import numpy as np\n",
    "temp = np.array(range(1,65))\n",
    "original_arr = temp.reshape(8,8)\n",
    "print(original_arr)\n",
    "reshaped_arr = temp.reshape(8,4,2)\n",
    "print(reshaped_arr)"
   ]
  },
  {
   "cell_type": "code",
   "execution_count": 19,
   "metadata": {},
   "outputs": [
    {
     "name": "stdout",
     "output_type": "stream",
     "text": [
      "[    1     2     3 ...  9998  9999 10000]\n",
      "[    2     4     6 ...  9996  9998 10000]\n"
     ]
    }
   ],
   "source": [
    "#레포트 2-2\n",
    "A = np.array(range(1,10001))\n",
    "B = A[A % 2 == 0, ]\n",
    "print(A)\n",
    "print(B)"
   ]
  }
 ],
 "metadata": {
  "kernelspec": {
   "display_name": "Python 3",
   "language": "python",
   "name": "python3"
  },
  "language_info": {
   "codemirror_mode": {
    "name": "ipython",
    "version": 3
   },
   "file_extension": ".py",
   "mimetype": "text/x-python",
   "name": "python",
   "nbconvert_exporter": "python",
   "pygments_lexer": "ipython3",
   "version": "3.8.5"
  }
 },
 "nbformat": 4,
 "nbformat_minor": 4
}
